{
 "cells": [
  {
   "cell_type": "code",
   "execution_count": null,
   "metadata": {},
   "outputs": [],
   "source": [
    "import numpy as np\n",
    "import pandas as pd\n",
    "import matplotlib.pyplot as plt\n",
    "from sklearn.preprocessing import MinMaxScaler\n",
    "import tensorflow as tf\n",
    "from sklearn.model_selection import train_test_split\n",
    "from sklearn.metrics import mean_squared_error, mean_absolute_error, mean_absolute_percentage_error\n",
    "\n",
    "# Define quantile loss function\n",
    "def quantile_loss(y_true, y_pred, quantile=0.9):\n",
    "    e = y_true - y_pred\n",
    "    return tf.keras.backend.mean(tf.keras.backend.maximum(quantile * e, (quantile - 1) * e), axis=-1)\n",
    "\n",
    "# Load data\n",
    "df = pd.read_csv('IESCO_dataset.csv')\n",
    "df.dropna(inplace=True)\n",
    "\n",
    "# Preprocess data\n",
    "s1 = MinMaxScaler(feature_range=(0,1))\n",
    "Xs = s1.fit_transform(df)\n",
    "s2 = MinMaxScaler(feature_range=(0,1))\n",
    "ys = s2.fit_transform(df[['target_variable']])\n",
    "\n",
    "\n",
    "\n",
    "# Split data into training and testing sets\n",
    "X_train1, X_test1, y_train, y_test = train_test_split(Xs, ys, test_size=0.3, shuffle=False)\n",
    "print('Train set shape', X_train1.shape)\n",
    "print('testing set shape', X_test1.shape)\n",
    "\n"
   ]
  },
  {
   "cell_type": "code",
   "execution_count": null,
   "metadata": {},
   "outputs": [],
   "source": [
    "X_train=np.reshape(X_train1,(9189,5,1))\n",
    "X_test=np.reshape(X_test1,(3939,5,1))"
   ]
  },
  {
   "cell_type": "code",
   "execution_count": null,
   "metadata": {},
   "outputs": [],
   "source": [
    "# Define combined hybrid model\n",
    "def hybrid_model(input_shape, quantile=0.9):\n",
    "    inputs = tf.keras.Input(shape=input_shape)\n",
    "    \n",
    "    # Shared LSTM layers\n",
    "    lstm_out = tf.keras.layers.LSTM(64, return_sequences=True)(inputs)\n",
    "    lstm_out = tf.keras.layers.LSTM(64, return_sequences=True)(inputs)\n",
    "\n",
    "    \n",
    "    # Attention mechanism\n",
    "    attention1 = tf.keras.layers.Attention()([lstm_out, lstm_out])\n",
    "    attention1 = tf.keras.layers.GlobalAveragePooling1D()(attention1)\n",
    "    \n",
    "    # Output layer\n",
    "    quantile_lstm_out = tf.keras.layers.Dense(1)(attention1)\n",
    "    \n",
    "    # Quantile LSTM model\n",
    "    quantile_lstm_model = tf.keras.Model(inputs=inputs, outputs=quantile_lstm_out)\n",
    "    quantile_lstm_model.compile(optimizer=tf.keras.optimizers.Adam(learning_rate=0.0001),\n",
    "                                loss=lambda y_true, y_pred: quantile_loss(y_true, y_pred, quantile=quantile))\n",
    "    \n",
    "    return quantile_lstm_model\n",
    "\n",
    "# Train the hybrid model\n",
    "model = hybrid_model((X_train.shape[1], X_train.shape[2]))\n",
    "history = model.fit(X_train, y_train, epochs=200, batch_size=32)\n",
    "\n",
    "# Predictions\n",
    "y_pred = model.predict(X_test)\n",
    "\n",
    "y_pred = s2.inverse_transform(y_pred)\n",
    "y_test = s2.inverse_transform(y_test)\n",
    "\n",
    "# Evaluate the model\n",
    "rmse = np.sqrt(mean_squared_error(y_test, y_pred))\n",
    "mae = mean_absolute_error(y_test, y_pred)\n",
    "mape = mean_absolute_percentage_error(y_test, y_pred)*100\n",
    "mse = mean_squared_error(y_test, y_pred)\n",
    "nrmse = (rmse/np.mean(y_pred))*100\n",
    "\n",
    "print(\"RMSE:\", rmse)\n",
    "print(\"MAE:\", mae)\n",
    "print(\"MAPE:\", mape)\n",
    "print(\"MSE:\", mse)\n",
    "print(\"NRMSE:\", nrmse)"
   ]
  },
  {
   "cell_type": "code",
   "execution_count": null,
   "metadata": {},
   "outputs": [],
   "source": [
    "y_pred= pd.DataFrame(y_pred)\n",
    "y_test= pd.DataFrame(y_test)"
   ]
  },
  {
   "cell_type": "code",
   "execution_count": null,
   "metadata": {},
   "outputs": [],
   "source": [
    "result_df = pd.concat([y_pred, y_test], axis=1)\n",
    "result_df.to_csv(r\"C:\\Users\\hp\\Desktop\\New folder\\IESCO\\DAQ-LSTM\\DAQ-LSTM_output(4).csv\", index=False)"
   ]
  }
 ],
 "metadata": {
  "kernelspec": {
   "display_name": "Python 3",
   "language": "python",
   "name": "python3"
  },
  "language_info": {
   "name": "python",
   "version": "3.11.2"
  }
 },
 "nbformat": 4,
 "nbformat_minor": 2
}
